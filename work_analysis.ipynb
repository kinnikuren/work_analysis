{
 "cells": [
  {
   "cell_type": "code",
   "execution_count": 1,
   "id": "54aa533f",
   "metadata": {},
   "outputs": [],
   "source": [
    "import pandas as pd\n",
    "import numpy as np\n",
    "import matplotlib.pyplot as plt\n",
    "import seaborn as sns\n",
    "from datetime import timedelta\n"
   ]
  },
  {
   "cell_type": "code",
   "execution_count": 2,
   "id": "9ce4d3dc",
   "metadata": {},
   "outputs": [],
   "source": [
    "#to do\n",
    "#remove incomplete assignments"
   ]
  },
  {
   "cell_type": "code",
   "execution_count": 3,
   "id": "eb034e42",
   "metadata": {},
   "outputs": [
    {
     "name": "stdout",
     "output_type": "stream",
     "text": [
      "        Date                   Case    Type I            Type II  \\\n",
      "0  4/21/2016             8021S-844T  Response  Draft Preparation   \n",
      "1  4/21/2016             8021S-844T  Response  Draft Preparation   \n",
      "2  4/22/2016              8021L-843   Rewrite  Draft Preparation   \n",
      "3  4/22/2016  Best Practices Review     Other              Other   \n",
      "4  4/22/2016  Best Practices Review     Other              Other   \n",
      "\n",
      "                                               Title    Year  Month  Week  \\\n",
      "0  TOUCH SYSTEM AND METHOD OF DETERMINING LOW-NOI...  2016.0    4.0  17.0   \n",
      "1  TOUCH SYSTEM AND METHOD OF DETERMINING LOW-NOI...  2016.0    4.0  17.0   \n",
      "2       DISPLAY APPARATUS AND DRIVING METHOD THEREOF  2016.0    4.0  17.0   \n",
      "3                                                NaN  2016.0    4.0  17.0   \n",
      "4                                                NaN  2016.0    4.0  17.0   \n",
      "\n",
      "      Start       End  ...  Sum for Completed Assignment  Comments Weekday  \\\n",
      "0   9:30 AM  12:30 PM  ...                           NaN       103     5.0   \n",
      "1   1:30 PM   4:30 PM  ...                           NaN       NaN     5.0   \n",
      "2  11:36 AM  11:59 AM  ...                           NaN       NaN     6.0   \n",
      "3  12:01 PM  12:40 PM  ...                           NaN       NaN     6.0   \n",
      "4   1:13 PM   6:24 PM  ...                           NaN       NaN     6.0   \n",
      "\n",
      "   Weekend (1 or 7)? Weekday (2-6) after hours?  Day  \\\n",
      "0                  0                          0   21   \n",
      "1                  0                          0   21   \n",
      "2                  0                          0   22   \n",
      "3                  0                          0   22   \n",
      "4                  0                          0   22   \n",
      "\n",
      "   Worked on Christmas or New Year? Non office hours?  Hours worked in office  \\\n",
      "0                                 0                 0                    3.00   \n",
      "1                                 0                 0                    3.00   \n",
      "2                                 0                 0                    0.38   \n",
      "3                                 0                 0                    0.65   \n",
      "4                                 0                 0                    5.18   \n",
      "\n",
      "   Hours worked outside of the office  \n",
      "0                                   0  \n",
      "1                                   0  \n",
      "2                                   0  \n",
      "3                                   0  \n",
      "4                                   0  \n",
      "\n",
      "[5 rows x 23 columns]\n",
      "Date                                   object\n",
      "Case                                   object\n",
      "Type I                                 object\n",
      "Type II                                object\n",
      "Title                                  object\n",
      "Year                                  float64\n",
      "Month                                 float64\n",
      "Week                                  float64\n",
      "Start                                  object\n",
      "End                                    object\n",
      "Total Hours                           float64\n",
      "Running Sum                           float64\n",
      "Assignment Complete                    object\n",
      "Sum for Completed Assignment          float64\n",
      "Comments                               object\n",
      "Weekday                               float64\n",
      "Weekend (1 or 7)?                       int64\n",
      "Weekday (2-6) after hours?             object\n",
      "Day                                     int64\n",
      "Worked on Christmas or New Year?        int64\n",
      "Non office hours?                      object\n",
      "Hours worked in office                 object\n",
      "Hours worked outside of the office     object\n",
      "dtype: object\n",
      "        Date                   Case    Type I            Type II  \\\n",
      "0 2016-04-21             8021S-844T  Response  Draft Preparation   \n",
      "1 2016-04-21             8021S-844T  Response  Draft Preparation   \n",
      "2 2016-04-22              8021L-843   Rewrite  Draft Preparation   \n",
      "3 2016-04-22  Best Practices Review     Other              Other   \n",
      "4 2016-04-22  Best Practices Review     Other              Other   \n",
      "\n",
      "                                               Title    Year  Month  Week  \\\n",
      "0  TOUCH SYSTEM AND METHOD OF DETERMINING LOW-NOI...  2016.0    4.0  17.0   \n",
      "1  TOUCH SYSTEM AND METHOD OF DETERMINING LOW-NOI...  2016.0    4.0  17.0   \n",
      "2       DISPLAY APPARATUS AND DRIVING METHOD THEREOF  2016.0    4.0  17.0   \n",
      "3                                                NaN  2016.0    4.0  17.0   \n",
      "4                                                NaN  2016.0    4.0  17.0   \n",
      "\n",
      "      Start       End  ...  Sum for Completed Assignment  Comments Weekday  \\\n",
      "0   9:30 AM  12:30 PM  ...                           NaN       103     5.0   \n",
      "1   1:30 PM   4:30 PM  ...                           NaN       NaN     5.0   \n",
      "2  11:36 AM  11:59 AM  ...                           NaN       NaN     6.0   \n",
      "3  12:01 PM  12:40 PM  ...                           NaN       NaN     6.0   \n",
      "4   1:13 PM   6:24 PM  ...                           NaN       NaN     6.0   \n",
      "\n",
      "   Weekend (1 or 7)? Weekday (2-6) after hours?  Day  \\\n",
      "0                  0                          0   21   \n",
      "1                  0                          0   21   \n",
      "2                  0                          0   22   \n",
      "3                  0                          0   22   \n",
      "4                  0                          0   22   \n",
      "\n",
      "   Worked on Christmas or New Year? Non office hours?  Hours worked in office  \\\n",
      "0                                 0                 0                    3.00   \n",
      "1                                 0                 0                    3.00   \n",
      "2                                 0                 0                    0.38   \n",
      "3                                 0                 0                    0.65   \n",
      "4                                 0                 0                    5.18   \n",
      "\n",
      "   Hours worked outside of the office  \n",
      "0                                   0  \n",
      "1                                   0  \n",
      "2                                   0  \n",
      "3                                   0  \n",
      "4                                   0  \n",
      "\n",
      "[5 rows x 23 columns]\n",
      "Date                                  datetime64[ns]\n",
      "Case                                          object\n",
      "Type I                                        object\n",
      "Type II                                       object\n",
      "Title                                         object\n",
      "Year                                         float64\n",
      "Month                                        float64\n",
      "Week                                         float64\n",
      "Start                                         object\n",
      "End                                           object\n",
      "Total Hours                                  float64\n",
      "Running Sum                                  float64\n",
      "Assignment Complete                           object\n",
      "Sum for Completed Assignment                 float64\n",
      "Comments                                      object\n",
      "Weekday                                      float64\n",
      "Weekend (1 or 7)?                              int64\n",
      "Weekday (2-6) after hours?                    object\n",
      "Day                                            int64\n",
      "Worked on Christmas or New Year?               int64\n",
      "Non office hours?                             object\n",
      "Hours worked in office                        object\n",
      "Hours worked outside of the office            object\n",
      "dtype: object\n"
     ]
    }
   ],
   "source": [
    "work_log = pd.read_csv(\"test.csv\")\n",
    "print(work_log.head())\n",
    "#print(len(work_log))\n",
    "print(work_log.dtypes)\n",
    "\n",
    "work_log = work_log[work_log.Date.notnull()]\n",
    "#print(work_log)\n",
    "\n",
    "work_log.Date = pd.to_datetime(work_log.Date, format = '%m/%d/%Y')\n",
    "print(work_log.head())\n",
    "print(work_log.dtypes)\n"
   ]
  },
  {
   "cell_type": "code",
   "execution_count": 38,
   "id": "7e29aeb9",
   "metadata": {},
   "outputs": [
    {
     "name": "stdout",
     "output_type": "stream",
     "text": [
      "     Year  Total Hours\n",
      "0  2016.0      1380.16\n",
      "1  2017.0      1443.91\n",
      "2  2018.0      1419.53\n",
      "3  2019.0      1246.70\n",
      "4  2020.0       426.77\n"
     ]
    },
    {
     "data": {
      "image/png": "[encoded data removed]",
      "text/plain": [
       "<Figure size 432x288 with 1 Axes>"
      ]
     },
     "metadata": {
      "needs_background": "light"
     },
     "output_type": "display_data"
    }
   ],
   "source": [
    "by_year = work_log.groupby('Year')['Total Hours'].sum().reset_index()\n",
    "\n",
    "print(by_year.head())\n",
    "\n",
    "plt.bar(by_year.Year, by_year['Total Hours'])\n",
    "plt.xlabel(\"Year\")\n",
    "plt.ylabel(\"Hours Billed\")\n",
    "plt.show()"
   ]
  },
  {
   "cell_type": "code",
   "execution_count": 4,
   "id": "29cc738f",
   "metadata": {
    "scrolled": true
   },
   "outputs": [
    {
     "name": "stdout",
     "output_type": "stream",
     "text": [
      "[5. 6. 2. 3. 4. 1. 7.]\n",
      "   Day of the Week  Total Hours\n",
      "0              1.0       466.15\n",
      "1              2.0      1045.08\n",
      "2              3.0      1091.75\n",
      "3              4.0      1121.25\n",
      "4              5.0      1029.68\n",
      "5              6.0       881.40\n",
      "6              7.0       366.69\n"
     ]
    },
    {
     "data": {
      "image/png": "[encoded data removed]",
      "text/plain": [
       "<Figure size 432x288 with 1 Axes>"
      ]
     },
     "metadata": {
      "needs_background": "light"
     },
     "output_type": "display_data"
    }
   ],
   "source": [
    "work_log = work_log.rename(columns = {\"Weekday\": \"Day of the Week\"})\n",
    "print(work_log['Day of the Week'].unique())\n",
    "\n",
    "work_log_by_day = work_log.groupby('Day of the Week', as_index=False)['Total Hours'].sum()\n",
    "print(work_log_by_day)\n",
    "\n",
    "plt.bar(work_log_by_day['Day of the Week'], work_log_by_day['Total Hours'])\n",
    "plt.xlabel(\"Day of the Week\")\n",
    "plt.ylabel(\"Hours Worked\")\n",
    "plt.xticks(ticks=work_log_by_day['Day of the Week'], labels=[\"Sun\", \"Mon\", \"Tues\", \"Wed\", \"Thurs\", \"Fri\", \"Sat\"])\n",
    "plt.show()"
   ]
  },
  {
   "cell_type": "code",
   "execution_count": 34,
   "id": "31e6f8c8",
   "metadata": {},
   "outputs": [
    {
     "name": "stdout",
     "output_type": "stream",
     "text": [
      "   Day of the Week  Total Hours\n",
      "0              1.0     3.884583\n",
      "1              2.0     5.558936\n",
      "2              3.0     5.598718\n",
      "3              4.0     5.691624\n",
      "4              5.0     5.280410\n",
      "5              6.0     4.638947\n",
      "6              7.0     4.120112\n"
     ]
    },
    {
     "data": {
      "image/png": "[encoded data removed]",
      "text/plain": [
       "<Figure size 432x288 with 1 Axes>"
      ]
     },
     "metadata": {
      "needs_background": "light"
     },
     "output_type": "display_data"
    }
   ],
   "source": [
    "daily_average = work_log.groupby(['Date', 'Day of the Week'])['Total Hours'].sum().reset_index()\n",
    "#print(daily_average)\n",
    "daily_average = daily_average.groupby('Day of the Week', as_index=False)['Total Hours'].mean()\n",
    "print(daily_average)\n",
    "\n",
    "plt.bar(daily_average['Day of the Week'], daily_average['Total Hours'])\n",
    "plt.xlabel(\"Day of the Week\")\n",
    "plt.ylabel(\"Average Hours Billed\")\n",
    "plt.xticks(ticks=work_log_by_day['Day of the Week'], labels=[\"Sun\", \"Mon\", \"Tues\", \"Wed\", \"Thurs\", \"Fri\", \"Sat\"])\n",
    "\n",
    "plt.show()"
   ]
  },
  {
   "cell_type": "code",
   "execution_count": 5,
   "id": "e2a9fd5d",
   "metadata": {
    "scrolled": true
   },
   "outputs": [
    {
     "name": "stdout",
     "output_type": "stream",
     "text": [
      "['Response' 'Rewrite' 'Other' 'Research' 'Drafting' 'NOA'\n",
      " 'Prospective Client' 'Review Drawings' 'Response II' 'Issue Fee'\n",
      " 'Design Rewrite' 'POA' 'Restriction Requirement' 'Response III'\n",
      " 'Notice to File Corrected Application Papers' 'AFCP' 'Nonbillable'\n",
      " 'New Application' 'Request for Corrected Filing Receipt' 'Response IV'\n",
      " 'Reissue' 'IDS' 'Examiner-Initiated Interview' 'Drawings'\n",
      " 'Rewrite (As-Is)' 'RCE' 'Substitute Statement'\n",
      " 'Notice to File Missing Parts' 'Preliminary Amendment'\n",
      " 'Decision on Appeal' 'DMCA Counterclaim' '312 Amendment'\n",
      " 'Submission of Declaration' 'Response to 312'\n",
      " 'Submission of Priority Document' 'Amazon Infringement Analysis'\n",
      " 'Infringement Analysis' 'Supplemental NOA' \"Examiner's Amendment\"\n",
      " 'Client Inquiry' 'Pre-Appeal Brief' 'Appeal Brief' 'Amended ADS'\n",
      " \"Examiner's Amendment II\" 'Ex Parte Quayle' 'Terminal Disclaimer'\n",
      " 'Response V' 'AFCP II' 'Notice of Non-Compliant Amendment' 'Response VI'\n",
      " 'Application Status' 'Supplemental Amendment' 'Advisory Action'\n",
      " 'Comments on Statement of Reasons for Allowance']\n"
     ]
    }
   ],
   "source": [
    "print(work_log['Type I'].unique())"
   ]
  },
  {
   "cell_type": "code",
   "execution_count": 6,
   "id": "09b1b9e0",
   "metadata": {},
   "outputs": [
    {
     "name": "stdout",
     "output_type": "stream",
     "text": [
      "                              Case        Type I  Total Hours       Date\n",
      "0                         2018-CES      Research        13.64 2018-03-29\n",
      "1  8002A-0 Patent Research Project      Research        12.67 2016-05-02\n",
      "2                     8021-517 CON      Response        28.53 2016-11-16\n",
      "3                     8021-517 CON   Response II        15.49 2017-06-07\n",
      "4                     8021-517 CON  Response III        12.03 2017-11-17\n",
      "[9.74532894736842, 8.410222222222222, 9.080769230769231]\n",
      "[152, 45, 13]\n"
     ]
    },
    {
     "data": {
      "image/png": "[encoded data removed]",
      "text/plain": [
       "<Figure size 432x288 with 2 Axes>"
      ]
     },
     "metadata": {
      "needs_background": "light"
     },
     "output_type": "display_data"
    }
   ],
   "source": [
    "work_log_by_type = work_log.groupby(['Case', 'Type I'], as_index=False).agg(\n",
    "    {'Total Hours': 'sum',\n",
    "     'Date': 'max'})\n",
    "\n",
    "print(work_log_by_type.head())\n",
    "\n",
    "response_types = ['Response', 'Response II', 'Response III']\n",
    "\n",
    "response_means = []\n",
    "response_counts = []\n",
    "\n",
    "for rt in response_types:\n",
    "    response_means.append(np.mean(work_log_by_type[work_log_by_type['Type I'] == rt]['Total Hours']))\n",
    "    response_counts.append(len(work_log_by_type[work_log_by_type['Type I'] == rt]))\n",
    "    \n",
    "print(response_means)\n",
    "print(response_counts)\n",
    "\n",
    "fig, axs = plt.subplots(2)\n",
    "\n",
    "axs[0].bar(response_types, response_means)\n",
    "axs[0].set_ylabel(\"Average Hours Worked\")\n",
    "axs[1].bar(response_types, response_counts)\n",
    "axs[1].set_ylabel(\"Number of Cases\")\n",
    "plt.show()\n",
    "\n",
    "#plt.subplots(3)\n"
   ]
  },
  {
   "cell_type": "code",
   "execution_count": 7,
   "id": "19164e9f",
   "metadata": {},
   "outputs": [
    {
     "data": {
      "image/png": "[encoded data removed]",
      "text/plain": [
       "<Figure size 432x1080 with 3 Axes>"
      ]
     },
     "metadata": {
      "needs_background": "light"
     },
     "output_type": "display_data"
    }
   ],
   "source": [
    "fig, axs = plt.subplots(3)\n",
    "\n",
    "fig.set_figheight(15)\n",
    "min_date = np.min(work_log_by_type.Date)\n",
    "max_date = np.max(work_log_by_type.Date)\n",
    "\n",
    "for i, rt in enumerate(response_types):\n",
    "    df = work_log_by_type[work_log_by_type['Type I'] == rt]\n",
    "    \n",
    "    axs[i].scatter(x = df.Date, y = df['Total Hours'])\n",
    "    axs[i].set_xlim(min_date-timedelta(days=60), max_date+timedelta(days=60))\n",
    "\n",
    "\n",
    "plt.show()\n"
   ]
  },
  {
   "cell_type": "code",
   "execution_count": null,
   "id": "d96c154e",
   "metadata": {},
   "outputs": [],
   "source": []
  },
  {
   "cell_type": "code",
   "execution_count": 8,
   "id": "c9db8ee4",
   "metadata": {
    "scrolled": true
   },
   "outputs": [
    {
     "name": "stdout",
     "output_type": "stream",
     "text": [
      "         Date       Case   Type I            Type II  \\\n",
      "2  2016-04-22  8021L-843  Rewrite  Draft Preparation   \n",
      "13 2016-04-27  8021L-843  Rewrite  Draft Preparation   \n",
      "26 2016-05-02  8021L-843  Rewrite  Draft Preparation   \n",
      "29 2016-05-02  8021L-843  Rewrite  Draft Preparation   \n",
      "30 2016-05-03  8021L-843  Rewrite  Draft Preparation   \n",
      "\n",
      "                                           Title    Year  Month  Week  \\\n",
      "2   DISPLAY APPARATUS AND DRIVING METHOD THEREOF  2016.0    4.0  17.0   \n",
      "13  DISPLAY APPARATUS AND DRIVING METHOD THEREOF  2016.0    4.0  18.0   \n",
      "26  DISPLAY APPARATUS AND DRIVING METHOD THEREOF  2016.0    5.0  19.0   \n",
      "29  DISPLAY APPARATUS AND DRIVING METHOD THEREOF  2016.0    5.0  19.0   \n",
      "30  DISPLAY APPARATUS AND DRIVING METHOD THEREOF  2016.0    5.0  19.0   \n",
      "\n",
      "       Start       End  ...  Sum for Completed Assignment  Comments  \\\n",
      "2   11:36 AM  11:59 AM  ...                           NaN       NaN   \n",
      "13   2:20 PM   6:35 PM  ...                           NaN       NaN   \n",
      "26   9:06 AM  10:08 AM  ...                           NaN       NaN   \n",
      "29   1:48 PM   6:42 PM  ...                           NaN       NaN   \n",
      "30   9:18 AM  12:27 PM  ...                           NaN       NaN   \n",
      "\n",
      "   Day of the Week  Weekend (1 or 7)? Weekday (2-6) after hours?  Day  \\\n",
      "2              6.0                  0                          0   22   \n",
      "13             4.0                  0                          0   27   \n",
      "26             2.0                  0                          0    2   \n",
      "29             2.0                  0                          0    2   \n",
      "30             3.0                  0                          0    3   \n",
      "\n",
      "    Worked on Christmas or New Year? Non office hours?  \\\n",
      "2                                  0                 0   \n",
      "13                                 0                 0   \n",
      "26                                 0                 0   \n",
      "29                                 0                 0   \n",
      "30                                 0                 0   \n",
      "\n",
      "    Hours worked in office  Hours worked outside of the office  \n",
      "2                     0.38                                   0  \n",
      "13                    4.25                                   0  \n",
      "26                    1.03                                   0  \n",
      "29                    4.90                                   0  \n",
      "30                    3.15                                   0  \n",
      "\n",
      "[5 rows x 23 columns]\n",
      "           Case  Total Hours       Date\n",
      "0    8021L-1277        17.03 2019-07-05\n",
      "1    8021L-1540         0.20 2020-07-27\n",
      "2     8021L-843        30.31 2016-08-15\n",
      "3     8021L-883        23.90 2016-10-25\n",
      "4     8021L-885        24.46 2016-10-24\n",
      "..          ...          ...        ...\n",
      "235  8836S-1432        10.64 2019-07-19\n",
      "236  8836S-1433         7.27 2019-04-08\n",
      "237  8836S-1540         9.34 2020-01-15\n",
      "238  8836S-1549        17.24 2020-01-22\n",
      "239  8836S-1654        15.25 2020-12-30\n",
      "\n",
      "[240 rows x 3 columns]\n",
      "Case                   object\n",
      "Total Hours           float64\n",
      "Date           datetime64[ns]\n",
      "dtype: object\n",
      "13.097416666666668\n"
     ]
    }
   ],
   "source": [
    "rewrites = work_log[work_log['Type I'] == \"Rewrite\"]\n",
    "print(rewrites.head())\n",
    "\n",
    "rewrites_by_case = rewrites.groupby(['Case'], as_index=False).agg(\n",
    "    {'Total Hours': 'sum',\n",
    "     'Date': 'max'})\n",
    "print(rewrites_by_case)\n",
    "print(rewrites_by_case.dtypes)\n",
    "print(np.mean(rewrites_by_case['Total Hours']))"
   ]
  },
  {
   "cell_type": "code",
   "execution_count": 9,
   "id": "e2e622f8",
   "metadata": {},
   "outputs": [
    {
     "data": {
      "image/png": "[encoded data removed]",
      "text/plain": [
       "<Figure size 432x288 with 1 Axes>"
      ]
     },
     "metadata": {
      "needs_background": "light"
     },
     "output_type": "display_data"
    }
   ],
   "source": [
    "plt.scatter(x = rewrites_by_case.Date, y = rewrites_by_case['Total Hours'])\n",
    "\n",
    "plt.show()"
   ]
  },
  {
   "cell_type": "code",
   "execution_count": 10,
   "id": "7f575c31",
   "metadata": {},
   "outputs": [
    {
     "data": {
      "image/png": "[encoded data removed]",
      "text/plain": [
       "<Figure size 432x288 with 1 Axes>"
      ]
     },
     "metadata": {
      "needs_background": "light"
     },
     "output_type": "display_data"
    }
   ],
   "source": [
    "plt.hist(rewrites_by_case['Total Hours'], bins=20)\n",
    "\n",
    "plt.show()"
   ]
  },
  {
   "cell_type": "code",
   "execution_count": 11,
   "id": "da09292b",
   "metadata": {},
   "outputs": [],
   "source": [
    "#Hours worked"
   ]
  }
 ],
 "metadata": {
  "kernelspec": {
   "display_name": "Python 3",
   "language": "python",
   "name": "python3"
  },
  "language_info": {
   "codemirror_mode": {
    "name": "ipython",
    "version": 3
   },
   "file_extension": ".py",
   "mimetype": "text/x-python",
   "name": "python",
   "nbconvert_exporter": "python",
   "pygments_lexer": "ipython3",
   "version": "3.7.6"
  }
 },
 "nbformat": 4,
 "nbformat_minor": 5
}
